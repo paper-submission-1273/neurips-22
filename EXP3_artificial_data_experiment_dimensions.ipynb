{
 "cells": [
  {
   "cell_type": "code",
   "execution_count": 1,
   "id": "67b7daba",
   "metadata": {},
   "outputs": [],
   "source": [
    "import numpy as np\n",
    "from tqdm import tqdm\n",
    "import matplotlib.pyplot as plt\n",
    "from scipy import stats\n",
    "from matplotlib.ticker import FormatStrFormatter\n",
    "\n",
    "from detectshift.utils import *\n",
    "from detectshift.exp_utils import *\n",
    "from detectshift.tests import *\n",
    "from detectshift.cd_models import *\n",
    "\n",
    "####### Fixing Seed #######\n",
    "random_seed=42\n",
    "np.random.seed(random_seed)\n",
    "###########################\n",
    "\n",
    "%config InlineBackend.figure_format = 'retina'"
   ]
  },
  {
   "cell_type": "code",
   "execution_count": 2,
   "id": "d9389602",
   "metadata": {},
   "outputs": [],
   "source": [
    "B=250\n",
    "n_p=250 #number of simulations used to estimate power\n",
    "alpha=.05\n",
    "perc=list(range(20,100,20)) #percentiles for binning\n",
    "n = 5000\n",
    "lamb = .1\n",
    "task='reg'\n",
    "test=.5"
   ]
  },
  {
   "cell_type": "markdown",
   "id": "f34b0699",
   "metadata": {},
   "source": [
    "## Cov. shift (ours)"
   ]
  },
  {
   "cell_type": "code",
   "execution_count": 3,
   "id": "87e03fb9",
   "metadata": {},
   "outputs": [],
   "source": [
    "def GenNoise(n,d):\n",
    "    data=pd.DataFrame(np.random.normal(0,1,(d-1)*n).reshape((n,d-1)))\n",
    "    data.columns=['x'+str(i) for i in range(1,data.shape[1]+1)]\n",
    "    return data"
   ]
  },
  {
   "cell_type": "code",
   "execution_count": 4,
   "id": "a738282b",
   "metadata": {},
   "outputs": [
    {
     "name": "stderr",
     "output_type": "stream",
     "text": [
      "100%|██████████| 250/250 [00:28<00:00,  8.83it/s]\n",
      "100%|██████████| 250/250 [00:29<00:00,  8.58it/s]\n",
      "100%|██████████| 250/250 [00:29<00:00,  8.61it/s]\n",
      "100%|██████████| 250/250 [00:28<00:00,  8.63it/s]\n",
      "100%|██████████| 250/250 [00:31<00:00,  8.02it/s]\n",
      "100%|██████████| 250/250 [00:34<00:00,  7.33it/s]\n",
      "100%|██████████| 250/250 [00:37<00:00,  6.74it/s]\n",
      "100%|██████████| 250/250 [00:39<00:00,  6.31it/s]\n",
      "100%|██████████| 250/250 [00:47<00:00,  5.23it/s]\n",
      "100%|██████████| 250/250 [00:59<00:00,  4.17it/s]\n",
      "100%|██████████| 250/250 [01:10<00:00,  3.55it/s]\n",
      "100%|██████████| 250/250 [01:21<00:00,  3.06it/s]\n"
     ]
    }
   ],
   "source": [
    "pvals_ours=[]\n",
    "\n",
    "d_ours=[1,2,3,4, 10,20,30,40, 100,200,300,400]\n",
    "\n",
    "for d in d_ours:\n",
    "    for k in tqdm(range(n_p)):\n",
    "        for theta in [0]:\n",
    "\n",
    "            ### Setting-up data\n",
    "            Xs, ys, Xt, yt = GenData(theta, lamb, n)\n",
    "            Xs_train, Xs_test, _, _, _, _, \\\n",
    "            Xt_train, Xt_test, _, _, _, _ = prep_data(Xs, ys, Xt, yt, test=test, task=task, random_state=random_seed)\n",
    "            n_train=int((1-test)*n)\n",
    "            Xs_train=pd.concat([Xs_train.reset_index(drop=True), GenNoise(n_train,d).reset_index(drop=True)], axis=1)\n",
    "            Xt_train=pd.concat([Xt_train.reset_index(drop=True), GenNoise(n_train,d).reset_index(drop=True)], axis=1)\n",
    "            n_test=int(test*n)\n",
    "            Xs_test=pd.concat([Xs_test.reset_index(drop=True), GenNoise(n_test,d).reset_index(drop=True)], axis=1)\n",
    "            Xt_test=pd.concat([Xt_test.reset_index(drop=True), GenNoise(n_test,d).reset_index(drop=True)], axis=1)\n",
    "            \n",
    "            ### P-values ###\n",
    "            covshift_model = KL(boost=False, cv=None)\n",
    "            covshift_model.fit(Xs_train, Xt_train)\n",
    "            cov=Permut(Xs_test, Xt_test, covshift_model, B=B, verbose=False)\n",
    "            pval_kl = cov['pval']\n",
    "            pvals_ours.append([d,pval_kl])\n",
    "            \n",
    "pvals_ours=np.array(pvals_ours)"
   ]
  },
  {
   "cell_type": "code",
   "execution_count": 5,
   "id": "5bafa888",
   "metadata": {},
   "outputs": [],
   "source": [
    "power_ours=[]\n",
    "\n",
    "for d in d_ours:   \n",
    "    ind=pvals_ours[:,0]==d\n",
    "    power_ours.append([d,np.mean(pvals_ours[ind,1]<alpha)])\n",
    "    \n",
    "power_ours=np.array(power_ours)"
   ]
  },
  {
   "cell_type": "code",
   "execution_count": 6,
   "id": "abbb2f94",
   "metadata": {},
   "outputs": [
    {
     "data": {
      "text/plain": [
       "array([[1.00e+00, 9.52e-01],\n",
       "       [2.00e+00, 9.28e-01],\n",
       "       [3.00e+00, 8.92e-01],\n",
       "       [4.00e+00, 8.92e-01],\n",
       "       [1.00e+01, 8.36e-01],\n",
       "       [2.00e+01, 6.80e-01],\n",
       "       [3.00e+01, 5.72e-01],\n",
       "       [4.00e+01, 4.88e-01],\n",
       "       [1.00e+02, 3.40e-01],\n",
       "       [2.00e+02, 2.44e-01],\n",
       "       [3.00e+02, 1.64e-01],\n",
       "       [4.00e+02, 1.80e-01]])"
      ]
     },
     "execution_count": 6,
     "metadata": {},
     "output_type": "execute_result"
    }
   ],
   "source": [
    "power_ours"
   ]
  },
  {
   "cell_type": "code",
   "execution_count": 7,
   "id": "8e914599",
   "metadata": {},
   "outputs": [],
   "source": [
    "left  = 0.125  # the left side of the subplots of the figure\n",
    "right = 0.9    # the right side of the subplots of the figure\n",
    "bottom = 0.1   # the bottom of the subplots of the figure\n",
    "top = 0.9      # the top of the subplots of the figure\n",
    "wspace = 0.05   # the amount of width reserved for blank space between subplots\n",
    "hspace = 0.3   # the amount of height reserved for white space between subplots"
   ]
  },
  {
   "cell_type": "markdown",
   "id": "ae668a93",
   "metadata": {},
   "source": [
    "## Cov. shift (TV)"
   ]
  },
  {
   "cell_type": "code",
   "execution_count": 8,
   "id": "098a55aa",
   "metadata": {},
   "outputs": [
    {
     "name": "stderr",
     "output_type": "stream",
     "text": [
      "100%|██████████| 250/250 [01:14<00:00,  3.36it/s]\n",
      "100%|██████████| 250/250 [01:57<00:00,  2.13it/s]\n",
      "100%|██████████| 250/250 [05:07<00:00,  1.23s/it]\n",
      "100%|██████████| 250/250 [21:40<00:00,  5.20s/it]\n"
     ]
    }
   ],
   "source": [
    "pvals_tv=[]\n",
    "\n",
    "d_tv=[1,2,3,4]\n",
    "\n",
    "for d in d_tv:\n",
    "    for k in tqdm(range(n_p)):\n",
    "        for theta in [0]:\n",
    "                \n",
    "            ### Setting-up data\n",
    "            Xs, ys, Xt, yt = GenData(theta, lamb, n)\n",
    "            Xs=np.hstack((Xs,np.array(GenNoise(n,d)))) \n",
    "            Xt=np.hstack((Xt,np.array(GenNoise(n,d))))\n",
    "            Xbins = np.percentile(np.vstack((Xs,Xt)), q=perc)\n",
    "            Xs_bin, Xt_bin = np.digitize(Xs, Xbins), np.digitize(Xt, Xbins)\n",
    "\n",
    "            #Xs\n",
    "            df = pd.DataFrame(Xs_bin, dtype='str')\n",
    "            if d==1:\n",
    "                df['concat'] = df[0]\n",
    "            elif d==2:\n",
    "                df['concat'] = df[0]+df[1]\n",
    "            elif d==3:\n",
    "                df['concat'] = df[0]+df[1]+df[2]\n",
    "            elif d==4:\n",
    "                df['concat'] = df[0]+df[1]+df[2]+df[3]\n",
    " \n",
    "            Xs_bin=np.array(df['concat'], dtype='int')\n",
    "\n",
    "            #Xt\n",
    "            df = pd.DataFrame(Xt_bin, dtype='str')\n",
    "            if d==1:\n",
    "                df['concat'] = df[0]\n",
    "            elif d==2:\n",
    "                df['concat'] = df[0]+df[1]\n",
    "            elif d==3:\n",
    "                df['concat'] = df[0]+df[1]+df[2]\n",
    "            elif d==4:\n",
    "                df['concat'] = df[0]+df[1]+df[2]+df[3]\n",
    "\n",
    "            Xt_bin=np.array(df['concat'], dtype='int')\n",
    "\n",
    "            ### P-values ###\n",
    "            covshift=tv(Xs_bin,Xt_bin)\n",
    "            X_bin = np.hstack((Xs_bin,Xt_bin))\n",
    "                \n",
    "            covperm = []\n",
    "            for b in range(B):\n",
    "                shuffle = np.random.choice(range(X_bin.shape[0]), size=(X_bin.shape[0],), replace=False)\n",
    "                inds = shuffle[:Xs_bin.shape[0]]\n",
    "                indt = shuffle[Xs_bin.shape[0]:]\n",
    "                covperm.append(tv(X_bin[inds],X_bin[indt]))\n",
    "\n",
    "            #Enforcing uniformity of p-values under H0 (adding a very small random number - we guarantee every statistic has a different value)\n",
    "            s=10**-10\n",
    "            covperm=np.array(covperm)\n",
    "            covperm=covperm+np.random.normal(0,s,covperm.shape[0])\n",
    "            covshift=covshift+np.random.normal(0,s,1)\n",
    "\n",
    "            pval_tv=(1+np.sum(np.array(covperm) >= covshift))/(B+1)\n",
    "                \n",
    "            #Output\n",
    "            pvals_tv.append([d,pval_tv])\n",
    "                \n",
    "            #print(np.unique(X_bin).shape[0])\n",
    "    \n",
    "pvals_tv=np.array(pvals_tv)"
   ]
  },
  {
   "cell_type": "code",
   "execution_count": 9,
   "id": "f461de7e",
   "metadata": {},
   "outputs": [],
   "source": [
    "power_tv=[]\n",
    "\n",
    "for d in d_tv:   \n",
    "    ind=pvals_tv[:,0]==d\n",
    "    power_tv.append([d,np.mean(pvals_tv[ind,1]<alpha)])\n",
    "    \n",
    "power_tv=np.array(power_tv)"
   ]
  },
  {
   "cell_type": "code",
   "execution_count": 10,
   "id": "8fe5dc63",
   "metadata": {},
   "outputs": [
    {
     "data": {
      "text/plain": [
       "array([[1.   , 0.984],\n",
       "       [2.   , 0.744],\n",
       "       [3.   , 0.316],\n",
       "       [4.   , 0.176]])"
      ]
     },
     "execution_count": 10,
     "metadata": {},
     "output_type": "execute_result"
    }
   ],
   "source": [
    "power_tv"
   ]
  },
  {
   "cell_type": "markdown",
   "id": "bf34e513",
   "metadata": {},
   "source": [
    "## Plots"
   ]
  },
  {
   "cell_type": "code",
   "execution_count": 36,
   "id": "c18f33d9",
   "metadata": {},
   "outputs": [
    {
     "data": {
      "image/png": "[encoded data removed]",
      "text/plain": [
       "<Figure size 504x216 with 1 Axes>"
      ]
     },
     "metadata": {
      "image/png": {
       "height": 217,
       "width": 447
      },
      "needs_background": "light"
     },
     "output_type": "display_data"
    }
   ],
   "source": [
    "plt.figure(figsize=(7,3))\n",
    "\n",
    "names=[\"TV\", \"KL (ours)\"] \n",
    "colors=['#2F58EB', '#773BEB', '#12B8EB', '#EB9846', '#6D8AF1','#808080'] \n",
    "\n",
    "plt.plot([d for d in d_tv], power_tv[:,1], color=colors[4], marker=\"D\", lw=2, label=names[0], alpha=.7, markersize=6)\n",
    "plt.plot([d for d in d_ours], power_ours[:,1], color=colors[3], marker=\"D\", lw=2, label=names[1], alpha=.7, markersize=6)\n",
    "plt.xscale('log')\n",
    "\n",
    "plt.legend(bbox_to_anchor=(1, .95), loc='upper right', ncol = 1, prop={'size': 12}, borderaxespad=.0, frameon=False)       \n",
    "plt.grid(alpha=.2)\n",
    "plt.axhline(y=power_tv[-1,1], color='r', linestyle='--', lw=1, alpha=.3)\n",
    "plt.ylabel('Power', size=14)\n",
    "plt.ylim([-0.05,1.05])\n",
    "plt.xticks(fontsize=11)\n",
    "plt.yticks(fontsize=11)\n",
    "plt.xlabel(\"$d$ (log scale)\", size=14)\n",
    "plt.locator_params(axis=\"y\", nbins=4)\n",
    "plt.gca().yaxis.set_major_formatter(FormatStrFormatter('%1.1f'))\n",
    "plt.savefig('plots/dimensions.png', bbox_inches='tight', dpi=300, transparent=True)\n",
    "\n",
    "plt.show()"
   ]
  },
  {
   "cell_type": "code",
   "execution_count": null,
   "id": "a69f3eef",
   "metadata": {},
   "outputs": [],
   "source": []
  },
  {
   "cell_type": "code",
   "execution_count": null,
   "id": "7f13726a",
   "metadata": {},
   "outputs": [],
   "source": []
  }
 ],
 "metadata": {
  "kernelspec": {
   "display_name": "Python 3 (ipykernel)",
   "language": "python",
   "name": "python3"
  },
  "language_info": {
   "codemirror_mode": {
    "name": "ipython",
    "version": 3
   },
   "file_extension": ".py",
   "mimetype": "text/x-python",
   "name": "python",
   "nbconvert_exporter": "python",
   "pygments_lexer": "ipython3",
   "version": "3.7.13"
  }
 },
 "nbformat": 4,
 "nbformat_minor": 5
}
