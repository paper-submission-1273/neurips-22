{
 "cells": [
  {
   "cell_type": "code",
   "execution_count": 1,
   "id": "22c863bf",
   "metadata": {},
   "outputs": [],
   "source": [
    "import numpy as np\n",
    "from tqdm import tqdm\n",
    "import matplotlib.pyplot as plt\n",
    "\n",
    "from detectshift.utils import *\n",
    "from detectshift.exp_utils import *\n",
    "from detectshift.tests import *\n",
    "from detectshift.cd_models import *"
   ]
  },
  {
   "cell_type": "code",
   "execution_count": 2,
   "id": "11061fca",
   "metadata": {},
   "outputs": [],
   "source": [
    "####### Fixing Seed #######\n",
    "random_seed=42\n",
    "np.random.seed(random_seed)\n",
    "###########################"
   ]
  },
  {
   "cell_type": "code",
   "execution_count": 3,
   "id": "afa4ce2e",
   "metadata": {},
   "outputs": [],
   "source": [
    "from scipy.stats import multivariate_normal\n",
    "class cde_classH0:\n",
    "    def sample(self,X): \n",
    "        p0=multivariate_normal.pdf(X, mean=np.zeros(d), cov=np.diag(np.ones(d)))\n",
    "        p1=multivariate_normal.pdf(X, mean=np.ones(d), cov=np.diag(np.ones(d)))\n",
    "        z=p1/(p0+p1)\n",
    "        return pd.DataFrame(np.random.binomial(1, z))"
   ]
  },
  {
   "cell_type": "code",
   "execution_count": 1,
   "id": "a738282b",
   "metadata": {
    "collapsed": true
   },
   "outputs": [
    {
     "ename": "NameError",
     "evalue": "name 'tqdm' is not defined",
     "output_type": "error",
     "traceback": [
      "\u001b[0;31m---------------------------------------------------------------------------\u001b[0m",
      "\u001b[0;31mNameError\u001b[0m                                 Traceback (most recent call last)",
      "\u001b[0;32m/var/folders/f4/v06y6m2x4_sb7sqgc_p1d3g80000gs/T/ipykernel_14187/3812899835.py\u001b[0m in \u001b[0;36m<module>\u001b[0;34m\u001b[0m\n\u001b[1;32m      9\u001b[0m \u001b[0mB\u001b[0m\u001b[0;34m=\u001b[0m\u001b[0;36m9\u001b[0m\u001b[0;34m\u001b[0m\u001b[0;34m\u001b[0m\u001b[0m\n\u001b[1;32m     10\u001b[0m \u001b[0;34m\u001b[0m\u001b[0m\n\u001b[0;32m---> 11\u001b[0;31m \u001b[0;32mfor\u001b[0m \u001b[0mk\u001b[0m \u001b[0;32min\u001b[0m \u001b[0mtqdm\u001b[0m\u001b[0;34m(\u001b[0m\u001b[0mrange\u001b[0m\u001b[0;34m(\u001b[0m\u001b[0mn_p\u001b[0m\u001b[0;34m)\u001b[0m\u001b[0;34m)\u001b[0m\u001b[0;34m:\u001b[0m\u001b[0;34m\u001b[0m\u001b[0;34m\u001b[0m\u001b[0m\n\u001b[0m\u001b[1;32m     12\u001b[0m     \u001b[0;32mfor\u001b[0m \u001b[0mgamma\u001b[0m \u001b[0;32min\u001b[0m \u001b[0mvalues\u001b[0m\u001b[0;34m:\u001b[0m\u001b[0;34m\u001b[0m\u001b[0;34m\u001b[0m\u001b[0m\n\u001b[1;32m     13\u001b[0m         \u001b[0;32mfor\u001b[0m \u001b[0mdelta\u001b[0m \u001b[0;32min\u001b[0m \u001b[0mvalues\u001b[0m\u001b[0;34m:\u001b[0m\u001b[0;34m\u001b[0m\u001b[0;34m\u001b[0m\u001b[0m\n",
      "\u001b[0;31mNameError\u001b[0m: name 'tqdm' is not defined"
     ]
    }
   ],
   "source": [
    "values = [0] \n",
    "d=3\n",
    "\n",
    "pvals=[]\n",
    "n_p = 100000\n",
    "n=200\n",
    "task='class'\n",
    "test=.5\n",
    "B=9\n",
    "\n",
    "for k in tqdm(range(n_p)):\n",
    "    for gamma in values:\n",
    "        for delta in values:\n",
    "\n",
    "            ### Setting-up data\n",
    "            Xs, ys, Xt, yt = GenData2(gamma, delta, d=d, n=n)\n",
    "            Xs_train, Xs_test, ys_train, ys_test, Zs_train, Zs_test, \\\n",
    "            Xt_train, Xt_test, yt_train, yt_test, Zt_train, Zt_test = prep_data(Xs, ys, Xt, yt, test=test, task=task, random_state=random_seed)            \n",
    "            \n",
    "            ### Training models\n",
    "            totshift_model = KL(boost=False, cv=None)\n",
    "            totshift_model.fit(Zs_train, Zt_train)\n",
    "            covshift_model = KL(boost=False, cv=None)\n",
    "            covshift_model.fit(Xs_train, Xt_train)\n",
    "            cd_model = cde_classH0()\n",
    "\n",
    "            ### Getting test statistics and p-vals\n",
    "            out = ShiftDiagnostics(Xs_test, ys_test, Xt_test, yt_test,\n",
    "                                   totshift_model=totshift_model, covshift_model=covshift_model, labshift_model=None,\n",
    "                                   cd_model=cd_model, task=task, B=B, verbose=False)\n",
    "\n",
    "            ### Output\n",
    "            pvals.append([gamma,delta, out['lab']['pval'], out['cov']['pval'], out['conc1']['pval'], out['conc2']['pval'], out['tot']['pval']])"
   ]
  },
  {
   "cell_type": "code",
   "execution_count": 5,
   "id": "34da7e53",
   "metadata": {},
   "outputs": [
    {
     "data": {
      "text/plain": [
       "(100000, 7)"
      ]
     },
     "execution_count": 5,
     "metadata": {},
     "output_type": "execute_result"
    }
   ],
   "source": [
    "pvals=np.array(pvals)\n",
    "\n",
    "pvals.shape"
   ]
  },
  {
   "cell_type": "code",
   "execution_count": 6,
   "id": "a69a4599",
   "metadata": {},
   "outputs": [
    {
     "name": "stdout",
     "output_type": "stream",
     "text": [
      "\n",
      "\n",
      "  ********** Label Shift **********\n"
     ]
    },
    {
     "data": {
      "image/png": "[encoded data removed]",
      "text/plain": [
       "<Figure size 432x288 with 1 Axes>"
      ]
     },
     "metadata": {
      "needs_background": "light"
     },
     "output_type": "display_data"
    },
    {
     "data": {
      "image/png": "[encoded data removed]",
      "text/plain": [
       "<Figure size 432x288 with 1 Axes>"
      ]
     },
     "metadata": {
      "needs_background": "light"
     },
     "output_type": "display_data"
    },
    {
     "name": "stdout",
     "output_type": "stream",
     "text": [
      "\n",
      "\n",
      "  ********** Cov Shift **********\n"
     ]
    },
    {
     "data": {
      "image/png": "[encoded data removed]",
      "text/plain": [
       "<Figure size 432x288 with 1 Axes>"
      ]
     },
     "metadata": {
      "needs_background": "light"
     },
     "output_type": "display_data"
    },
    {
     "data": {
      "image/png": "[encoded data removed]",
      "text/plain": [
       "<Figure size 432x288 with 1 Axes>"
      ]
     },
     "metadata": {
      "needs_background": "light"
     },
     "output_type": "display_data"
    },
    {
     "name": "stdout",
     "output_type": "stream",
     "text": [
      "\n",
      "\n",
      "  ********** Concept Shift 1 **********\n"
     ]
    },
    {
     "data": {
      "image/png": "[encoded data removed]",
      "text/plain": [
       "<Figure size 432x288 with 1 Axes>"
      ]
     },
     "metadata": {
      "needs_background": "light"
     },
     "output_type": "display_data"
    },
    {
     "data": {
      "image/png": "[encoded data removed]",
      "text/plain": [
       "<Figure size 432x288 with 1 Axes>"
      ]
     },
     "metadata": {
      "needs_background": "light"
     },
     "output_type": "display_data"
    },
    {
     "name": "stdout",
     "output_type": "stream",
     "text": [
      "\n",
      "\n",
      "  ********** Concept Shift 2 **********\n"
     ]
    },
    {
     "data": {
      "image/png": "[encoded data removed]",
      "text/plain": [
       "<Figure size 432x288 with 1 Axes>"
      ]
     },
     "metadata": {
      "needs_background": "light"
     },
     "output_type": "display_data"
    },
    {
     "data": {
      "image/png": "[encoded data removed]",
      "text/plain": [
       "<Figure size 432x288 with 1 Axes>"
      ]
     },
     "metadata": {
      "needs_background": "light"
     },
     "output_type": "display_data"
    },
    {
     "name": "stdout",
     "output_type": "stream",
     "text": [
      "\n",
      "\n",
      "  ********** Total Shift **********\n"
     ]
    },
    {
     "data": {
      "image/png": "[encoded data removed]",
      "text/plain": [
       "<Figure size 432x288 with 1 Axes>"
      ]
     },
     "metadata": {
      "needs_background": "light"
     },
     "output_type": "display_data"
    },
    {
     "data": {
      "image/png": "[encoded data removed]",
      "text/plain": [
       "<Figure size 432x288 with 1 Axes>"
      ]
     },
     "metadata": {
      "needs_background": "light"
     },
     "output_type": "display_data"
    }
   ],
   "source": [
    "names=['Label Shift', 'Cov Shift', 'Concept Shift 1', 'Concept Shift 2', 'Total Shift']\n",
    "\n",
    "for i in range(5):\n",
    "    print(\"\\n\\n  **********\",names[i],\"**********\")\n",
    "    plt.hist(pvals[:,i+2], cumulative=False, density=True, bins=20)\n",
    "    plt.show()\n",
    "    plt.hist(pvals[:,i+2], cumulative=True, density=True, bins=20)\n",
    "    plt.show()"
   ]
  },
  {
   "cell_type": "code",
   "execution_count": null,
   "id": "c57053c6",
   "metadata": {},
   "outputs": [],
   "source": []
  }
 ],
 "metadata": {
  "kernelspec": {
   "display_name": "Python 3 (ipykernel)",
   "language": "python",
   "name": "python3"
  },
  "language_info": {
   "codemirror_mode": {
    "name": "ipython",
    "version": 3
   },
   "file_extension": ".py",
   "mimetype": "text/x-python",
   "name": "python",
   "nbconvert_exporter": "python",
   "pygments_lexer": "ipython3",
   "version": "3.7.13"
  }
 },
 "nbformat": 4,
 "nbformat_minor": 5
}
