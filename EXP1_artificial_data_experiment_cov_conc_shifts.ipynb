{
 "cells": [
  {
   "cell_type": "code",
   "execution_count": 1,
   "id": "67b7daba",
   "metadata": {},
   "outputs": [],
   "source": [
    "import numpy as np\n",
    "from tqdm import tqdm\n",
    "import matplotlib.pyplot as plt\n",
    "\n",
    "from detectshift.utils import *\n",
    "from detectshift.exp_utils import *\n",
    "from detectshift.tests import *\n",
    "from detectshift.cd_models import *\n",
    "\n",
    "####### Fixing Seed #######\n",
    "random_seed=42\n",
    "np.random.seed(random_seed)\n",
    "###########################"
   ]
  },
  {
   "cell_type": "code",
   "execution_count": 2,
   "id": "8cb9a803",
   "metadata": {},
   "outputs": [
    {
     "name": "stdout",
     "output_type": "stream",
     "text": [
      "[-0.23 -0.21 -0.19 -0.17 -0.15 -0.13 -0.11 -0.09 -0.07 -0.05 -0.03 -0.01\n",
      "  0.01  0.03  0.05  0.07  0.09  0.11  0.13  0.15  0.17  0.19  0.21  0.23] 24\n"
     ]
    }
   ],
   "source": [
    "values = np.arange(-.24,.24,.02) +.01\n",
    "print(values, len(values))"
   ]
  },
  {
   "cell_type": "code",
   "execution_count": 3,
   "id": "b889b52c",
   "metadata": {},
   "outputs": [],
   "source": [
    "n = 5000\n",
    "B=100\n",
    "n_p=100 #number of simulations used to estimate power\n",
    "alpha=.05\n",
    "task='reg'\n",
    "test=.5"
   ]
  },
  {
   "cell_type": "code",
   "execution_count": 5,
   "id": "a738282b",
   "metadata": {},
   "outputs": [
    {
     "name": "stderr",
     "output_type": "stream",
     "text": [
      " 38%|███▊      | 9/24 [00:02<00:03,  3.82it/s]\n"
     ]
    },
    {
     "ename": "KeyboardInterrupt",
     "evalue": "",
     "output_type": "error",
     "traceback": [
      "\u001b[0;31m---------------------------------------------------------------------------\u001b[0m",
      "\u001b[0;31mKeyboardInterrupt\u001b[0m                         Traceback (most recent call last)",
      "\u001b[0;32m/var/folders/f4/v06y6m2x4_sb7sqgc_p1d3g80000gs/T/ipykernel_14112/2645190909.py\u001b[0m in \u001b[0;36m<module>\u001b[0;34m\u001b[0m\n\u001b[1;32m     22\u001b[0m \u001b[0;34m\u001b[0m\u001b[0m\n\u001b[1;32m     23\u001b[0m             \u001b[0;31m###\u001b[0m\u001b[0;34m\u001b[0m\u001b[0;34m\u001b[0m\u001b[0;34m\u001b[0m\u001b[0m\n\u001b[0;32m---> 24\u001b[0;31m             \u001b[0mtot\u001b[0m\u001b[0;34m=\u001b[0m\u001b[0mPermut\u001b[0m\u001b[0;34m(\u001b[0m\u001b[0mZs_test\u001b[0m\u001b[0;34m,\u001b[0m \u001b[0mZt_test\u001b[0m\u001b[0;34m,\u001b[0m \u001b[0mtotshift_model\u001b[0m\u001b[0;34m,\u001b[0m \u001b[0mB\u001b[0m\u001b[0;34m=\u001b[0m\u001b[0mB\u001b[0m\u001b[0;34m,\u001b[0m \u001b[0mverbose\u001b[0m\u001b[0;34m=\u001b[0m\u001b[0;32mFalse\u001b[0m\u001b[0;34m)\u001b[0m\u001b[0;34m\u001b[0m\u001b[0;34m\u001b[0m\u001b[0m\n\u001b[0m\u001b[1;32m     25\u001b[0m             \u001b[0mcov\u001b[0m\u001b[0;34m=\u001b[0m\u001b[0mPermut\u001b[0m\u001b[0;34m(\u001b[0m\u001b[0mXs_test\u001b[0m\u001b[0;34m,\u001b[0m \u001b[0mXt_test\u001b[0m\u001b[0;34m,\u001b[0m \u001b[0mcovshift_model\u001b[0m\u001b[0;34m,\u001b[0m \u001b[0mB\u001b[0m\u001b[0;34m=\u001b[0m\u001b[0mB\u001b[0m\u001b[0;34m,\u001b[0m \u001b[0mverbose\u001b[0m\u001b[0;34m=\u001b[0m\u001b[0;32mFalse\u001b[0m\u001b[0;34m)\u001b[0m\u001b[0;34m\u001b[0m\u001b[0;34m\u001b[0m\u001b[0m\n\u001b[1;32m     26\u001b[0m             conc2=CondRand(Xs_test, ys_test, Xt_test, yt_test, \n",
      "\u001b[0;32m~/Desktop/dataset_shift_decomposition/detectshift/tests.py\u001b[0m in \u001b[0;36mPermut\u001b[0;34m(Zs, Zt, shift_model, B, verbose)\u001b[0m\n\u001b[1;32m     29\u001b[0m     \u001b[0;31m#Performing permutation\u001b[0m\u001b[0;34m\u001b[0m\u001b[0;34m\u001b[0m\u001b[0;34m\u001b[0m\u001b[0m\n\u001b[1;32m     30\u001b[0m     \u001b[0;32mfor\u001b[0m \u001b[0mb\u001b[0m \u001b[0;32min\u001b[0m \u001b[0mtqdm\u001b[0m\u001b[0;34m(\u001b[0m\u001b[0mrange\u001b[0m\u001b[0;34m(\u001b[0m\u001b[0mB\u001b[0m\u001b[0;34m)\u001b[0m\u001b[0;34m,\u001b[0m \u001b[0mdisable\u001b[0m\u001b[0;34m=\u001b[0m\u001b[0;32mnot\u001b[0m\u001b[0;34m(\u001b[0m\u001b[0mverbose\u001b[0m\u001b[0;34m)\u001b[0m\u001b[0;34m)\u001b[0m\u001b[0;34m:\u001b[0m\u001b[0;34m\u001b[0m\u001b[0;34m\u001b[0m\u001b[0m\n\u001b[0;32m---> 31\u001b[0;31m         \u001b[0mshuffle\u001b[0m \u001b[0;34m=\u001b[0m \u001b[0mnp\u001b[0m\u001b[0;34m.\u001b[0m\u001b[0mrandom\u001b[0m\u001b[0;34m.\u001b[0m\u001b[0mchoice\u001b[0m\u001b[0;34m(\u001b[0m\u001b[0mrange\u001b[0m\u001b[0;34m(\u001b[0m\u001b[0mZ\u001b[0m\u001b[0;34m.\u001b[0m\u001b[0mshape\u001b[0m\u001b[0;34m[\u001b[0m\u001b[0;36m0\u001b[0m\u001b[0;34m]\u001b[0m\u001b[0;34m)\u001b[0m\u001b[0;34m,\u001b[0m \u001b[0msize\u001b[0m\u001b[0;34m=\u001b[0m\u001b[0;34m(\u001b[0m\u001b[0mZ\u001b[0m\u001b[0;34m.\u001b[0m\u001b[0mshape\u001b[0m\u001b[0;34m[\u001b[0m\u001b[0;36m0\u001b[0m\u001b[0;34m]\u001b[0m\u001b[0;34m,\u001b[0m\u001b[0;34m)\u001b[0m\u001b[0;34m,\u001b[0m \u001b[0mreplace\u001b[0m\u001b[0;34m=\u001b[0m\u001b[0;32mFalse\u001b[0m\u001b[0;34m)\u001b[0m\u001b[0;34m\u001b[0m\u001b[0;34m\u001b[0m\u001b[0m\n\u001b[0m\u001b[1;32m     32\u001b[0m         \u001b[0mindt\u001b[0m \u001b[0;34m=\u001b[0m \u001b[0mshuffle\u001b[0m\u001b[0;34m[\u001b[0m\u001b[0mZs\u001b[0m\u001b[0;34m.\u001b[0m\u001b[0mshape\u001b[0m\u001b[0;34m[\u001b[0m\u001b[0;36m0\u001b[0m\u001b[0;34m]\u001b[0m\u001b[0;34m:\u001b[0m\u001b[0;34m]\u001b[0m\u001b[0;34m\u001b[0m\u001b[0;34m\u001b[0m\u001b[0m\n\u001b[1;32m     33\u001b[0m         \u001b[0mperm\u001b[0m\u001b[0;34m.\u001b[0m\u001b[0mappend\u001b[0m\u001b[0;34m(\u001b[0m\u001b[0mnp\u001b[0m\u001b[0;34m.\u001b[0m\u001b[0mmean\u001b[0m\u001b[0;34m(\u001b[0m\u001b[0mnp\u001b[0m\u001b[0;34m.\u001b[0m\u001b[0mlog\u001b[0m\u001b[0;34m(\u001b[0m\u001b[0mw\u001b[0m\u001b[0;34m[\u001b[0m\u001b[0mindt\u001b[0m\u001b[0;34m]\u001b[0m\u001b[0;34m)\u001b[0m\u001b[0;34m)\u001b[0m\u001b[0;34m)\u001b[0m\u001b[0;34m\u001b[0m\u001b[0;34m\u001b[0m\u001b[0m\n",
      "\u001b[0;32mmtrand.pyx\u001b[0m in \u001b[0;36mnumpy.random.mtrand.RandomState.choice\u001b[0;34m()\u001b[0m\n",
      "\u001b[0;32m<__array_function__ internals>\u001b[0m in \u001b[0;36mprod\u001b[0;34m(*args, **kwargs)\u001b[0m\n",
      "\u001b[0;31mKeyboardInterrupt\u001b[0m: "
     ]
    }
   ],
   "source": [
    "pvals=[]\n",
    "\n",
    "for k in tqdm(range(n_p)):\n",
    "    for theta in values:\n",
    "        for lamb in values:\n",
    "\n",
    "            ### Setting-up data\n",
    "            Xs, ys, Xt, yt = GenData(theta, lamb, n)\n",
    "            Xs_train, Xs_test, ys_train, ys_test, Zs_train, Zs_test, \\\n",
    "            Xt_train, Xt_test, yt_train, yt_test, Zt_train, Zt_test = prep_data(Xs, ys, Xt, yt, test=test, task=task, random_state=random_seed)\n",
    "\n",
    "            ###\n",
    "            totshift_model = KL(boost=False, cv=None)\n",
    "            totshift_model.fit(Zs_train, Zt_train)\n",
    "            covshift_model = KL(boost=False, cv=None)\n",
    "            covshift_model.fit(Xs_train, Xt_train)\n",
    "\n",
    "            ###\n",
    "            cd_model = cde_reg(boost=False, cv=None)\n",
    "            cd_model.fit(pd.concat([Xs_train, Xt_train], axis=0), \n",
    "                         pd.concat([ys_train, yt_train], axis=0))\n",
    "            \n",
    "            ###\n",
    "            tot=Permut(Zs_test, Zt_test, totshift_model, B=B, verbose=False)\n",
    "            cov=Permut(Xs_test, Xt_test, covshift_model, B=B, verbose=False)\n",
    "            conc2=CondRand(Xs_test, ys_test, Xt_test, yt_test, \n",
    "                           cd_model, totshift_model, covshift_model, B=B, verbose=False)\n",
    "\n",
    "            ###\n",
    "            pvals.append([theta,lamb,tot['pval'],conc2['pval'],cov['pval']])"
   ]
  },
  {
   "cell_type": "code",
   "execution_count": 5,
   "id": "fea2d985",
   "metadata": {},
   "outputs": [
    {
     "data": {
      "text/plain": [
       "(57600, 5)"
      ]
     },
     "execution_count": 5,
     "metadata": {},
     "output_type": "execute_result"
    }
   ],
   "source": [
    "pvals=np.array(pvals)\n",
    "\n",
    "pvals.shape"
   ]
  },
  {
   "cell_type": "code",
   "execution_count": 6,
   "id": "962dc9b2",
   "metadata": {},
   "outputs": [],
   "source": [
    "M=np.zeros((3,len(values),len(values)))\n",
    "i=0\n",
    "\n",
    "for theta in values:\n",
    "    j=0\n",
    "    for lamb in values:\n",
    "        ind=np.min(pvals[:,:2]==[theta,lamb], axis=1)\n",
    "        M[:,len(values)-i-1,j]=np.mean(pvals[ind,2:]<alpha, axis=0)\n",
    "        j+=1\n",
    "    i+=1\n",
    "    \n",
    "np.save('outputs/cov_conc.npy', M)"
   ]
  },
  {
   "cell_type": "code",
   "execution_count": null,
   "id": "7fbdbd52",
   "metadata": {},
   "outputs": [],
   "source": []
  }
 ],
 "metadata": {
  "kernelspec": {
   "display_name": "Python 3 (ipykernel)",
   "language": "python",
   "name": "python3"
  },
  "language_info": {
   "codemirror_mode": {
    "name": "ipython",
    "version": 3
   },
   "file_extension": ".py",
   "mimetype": "text/x-python",
   "name": "python",
   "nbconvert_exporter": "python",
   "pygments_lexer": "ipython3",
   "version": "3.7.13"
  }
 },
 "nbformat": 4,
 "nbformat_minor": 5
}
